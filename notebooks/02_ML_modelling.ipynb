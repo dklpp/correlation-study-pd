{
 "cells": [
  {
   "cell_type": "code",
   "execution_count": 64,
   "id": "b8d8b734",
   "metadata": {},
   "outputs": [],
   "source": [
    "# feature_set = ['Slope_Gamma_channel77', 'Slope_Gamma_channel61', 'Slope_Delta_channel105', 'Slope_Gamma_channel65', \n",
    "#                'Slope_Delta_channel95', 'Slope_Delta_channel109', 'Slope_Gamma_channel60', 'Slope_Gamma_channel26', \n",
    "#                'Slope_Delta_channel43', 'Slope_Delta_channel40', \n",
    "#     'bdi_binary']"
   ]
  },
  {
   "cell_type": "markdown",
   "id": "9a8cbfec-17ac-413a-8a2e-435bf4953f15",
   "metadata": {},
   "source": [
    "## 1. Odds Ratio for all the dataset without train/test splits + p values\n",
    "\n",
    "Logistic regression on all data set and calculate odd ratio for each MEG feature? when dependent variable is BDI/Apathy.\n",
    "CI would also be great."
   ]
  },
  {
   "cell_type": "code",
   "execution_count": 67,
   "id": "39c0ed6c",
   "metadata": {},
   "outputs": [],
   "source": [
    "import pandas as pd \n",
    "import numpy as np\n",
    "\n",
    "df_psd = pd.read_csv(\"data/df_meg_psy_allfeatures.csv\")\n",
    "df_slopes = pd.read_csv(\"data/slopes_580features.csv\")\n",
    "\n",
    "df_slopes = df_slopes[df_slopes['target']==1].drop(columns='target')"
   ]
  },
  {
   "cell_type": "code",
   "execution_count": 69,
   "id": "016e6a5b",
   "metadata": {
    "scrolled": true
   },
   "outputs": [
    {
     "data": {
      "text/html": [
       "<div>\n",
       "<style scoped>\n",
       "    .dataframe tbody tr th:only-of-type {\n",
       "        vertical-align: middle;\n",
       "    }\n",
       "\n",
       "    .dataframe tbody tr th {\n",
       "        vertical-align: top;\n",
       "    }\n",
       "\n",
       "    .dataframe thead th {\n",
       "        text-align: right;\n",
       "    }\n",
       "</style>\n",
       "<table border=\"1\" class=\"dataframe\">\n",
       "  <thead>\n",
       "    <tr style=\"text-align: right;\">\n",
       "      <th></th>\n",
       "      <th>PATIENT_ID</th>\n",
       "      <th>MoCA corretto</th>\n",
       "      <th>LEDD Levodopa</th>\n",
       "      <th>LEDD_DA</th>\n",
       "      <th>LEDD totale</th>\n",
       "      <th>AGE</th>\n",
       "      <th>SEX</th>\n",
       "      <th>DD months</th>\n",
       "      <th>mH&amp;Y</th>\n",
       "      <th>UPDRS III</th>\n",
       "      <th>...</th>\n",
       "      <th>Delta_channel114</th>\n",
       "      <th>Theta_channel114</th>\n",
       "      <th>Alpha_channel114</th>\n",
       "      <th>Beta_channel114</th>\n",
       "      <th>Gamma_channel114</th>\n",
       "      <th>Delta_channel115</th>\n",
       "      <th>Theta_channel115</th>\n",
       "      <th>Alpha_channel115</th>\n",
       "      <th>Beta_channel115</th>\n",
       "      <th>Gamma_channel115</th>\n",
       "    </tr>\n",
       "  </thead>\n",
       "  <tbody>\n",
       "    <tr>\n",
       "      <th>0</th>\n",
       "      <td>BNTLGU53_01</td>\n",
       "      <td>20.98</td>\n",
       "      <td>150</td>\n",
       "      <td>0</td>\n",
       "      <td>150</td>\n",
       "      <td>63</td>\n",
       "      <td>0</td>\n",
       "      <td>24</td>\n",
       "      <td>2.0</td>\n",
       "      <td>29</td>\n",
       "      <td>...</td>\n",
       "      <td>40375.942038</td>\n",
       "      <td>24202.162437</td>\n",
       "      <td>37191.128954</td>\n",
       "      <td>7215.472327</td>\n",
       "      <td>1711.428597</td>\n",
       "      <td>48377.700893</td>\n",
       "      <td>28849.230923</td>\n",
       "      <td>43652.571297</td>\n",
       "      <td>8903.325322</td>\n",
       "      <td>2183.211469</td>\n",
       "    </tr>\n",
       "    <tr>\n",
       "      <th>1</th>\n",
       "      <td>BRRMRS48_01</td>\n",
       "      <td>14.40</td>\n",
       "      <td>300</td>\n",
       "      <td>0</td>\n",
       "      <td>400</td>\n",
       "      <td>70</td>\n",
       "      <td>1</td>\n",
       "      <td>24</td>\n",
       "      <td>2.0</td>\n",
       "      <td>21</td>\n",
       "      <td>...</td>\n",
       "      <td>12839.523331</td>\n",
       "      <td>5403.541702</td>\n",
       "      <td>7058.583578</td>\n",
       "      <td>2759.861741</td>\n",
       "      <td>1139.080707</td>\n",
       "      <td>20525.446929</td>\n",
       "      <td>8569.110052</td>\n",
       "      <td>10912.941664</td>\n",
       "      <td>4407.627448</td>\n",
       "      <td>1845.709506</td>\n",
       "    </tr>\n",
       "  </tbody>\n",
       "</table>\n",
       "<p>2 rows × 599 columns</p>\n",
       "</div>"
      ],
      "text/plain": [
       "    PATIENT_ID  MoCA corretto  LEDD Levodopa  LEDD_DA  LEDD totale  AGE  SEX  \\\n",
       "0  BNTLGU53_01          20.98            150        0          150   63    0   \n",
       "1  BRRMRS48_01          14.40            300        0          400   70    1   \n",
       "\n",
       "   DD months  mH&Y  UPDRS III   ...  Delta_channel114  Theta_channel114  \\\n",
       "0         24   2.0          29  ...      40375.942038      24202.162437   \n",
       "1         24   2.0          21  ...      12839.523331       5403.541702   \n",
       "\n",
       "   Alpha_channel114  Beta_channel114  Gamma_channel114  Delta_channel115  \\\n",
       "0      37191.128954      7215.472327       1711.428597      48377.700893   \n",
       "1       7058.583578      2759.861741       1139.080707      20525.446929   \n",
       "\n",
       "   Theta_channel115  Alpha_channel115  Beta_channel115  Gamma_channel115  \n",
       "0      28849.230923      43652.571297      8903.325322       2183.211469  \n",
       "1       8569.110052      10912.941664      4407.627448       1845.709506  \n",
       "\n",
       "[2 rows x 599 columns]"
      ]
     },
     "execution_count": 69,
     "metadata": {},
     "output_type": "execute_result"
    }
   ],
   "source": [
    "df_psd.head(2)"
   ]
  },
  {
   "cell_type": "code",
   "execution_count": 71,
   "id": "12d9c12b-9705-473e-9fbb-e48961755fde",
   "metadata": {
    "scrolled": true
   },
   "outputs": [
    {
     "data": {
      "text/html": [
       "<div>\n",
       "<style scoped>\n",
       "    .dataframe tbody tr th:only-of-type {\n",
       "        vertical-align: middle;\n",
       "    }\n",
       "\n",
       "    .dataframe tbody tr th {\n",
       "        vertical-align: top;\n",
       "    }\n",
       "\n",
       "    .dataframe thead th {\n",
       "        text-align: right;\n",
       "    }\n",
       "</style>\n",
       "<table border=\"1\" class=\"dataframe\">\n",
       "  <thead>\n",
       "    <tr style=\"text-align: right;\">\n",
       "      <th></th>\n",
       "      <th>Slope_Delta_channel1</th>\n",
       "      <th>Slope_Theta_channel1</th>\n",
       "      <th>Slope_Alpha_channel1</th>\n",
       "      <th>Slope_Beta_channel1</th>\n",
       "      <th>Slope_Gamma_channel1</th>\n",
       "      <th>Slope_Delta_channel2</th>\n",
       "      <th>Slope_Theta_channel2</th>\n",
       "      <th>Slope_Alpha_channel2</th>\n",
       "      <th>Slope_Beta_channel2</th>\n",
       "      <th>Slope_Gamma_channel2</th>\n",
       "      <th>...</th>\n",
       "      <th>Slope_Delta_channel115</th>\n",
       "      <th>Slope_Theta_channel115</th>\n",
       "      <th>Slope_Alpha_channel115</th>\n",
       "      <th>Slope_Beta_channel115</th>\n",
       "      <th>Slope_Gamma_channel115</th>\n",
       "      <th>Slope_Delta_channel116</th>\n",
       "      <th>Slope_Theta_channel116</th>\n",
       "      <th>Slope_Alpha_channel116</th>\n",
       "      <th>Slope_Beta_channel116</th>\n",
       "      <th>Slope_Gamma_channel116</th>\n",
       "    </tr>\n",
       "  </thead>\n",
       "  <tbody>\n",
       "    <tr>\n",
       "      <th>20</th>\n",
       "      <td>-0.655566</td>\n",
       "      <td>0.142126</td>\n",
       "      <td>-0.843033</td>\n",
       "      <td>-0.875152</td>\n",
       "      <td>-10.003454</td>\n",
       "      <td>-0.692597</td>\n",
       "      <td>0.224640</td>\n",
       "      <td>-0.906742</td>\n",
       "      <td>-1.141044</td>\n",
       "      <td>-9.867734</td>\n",
       "      <td>...</td>\n",
       "      <td>-0.686671</td>\n",
       "      <td>0.090868</td>\n",
       "      <td>0.888668</td>\n",
       "      <td>-1.909757</td>\n",
       "      <td>-9.392111</td>\n",
       "      <td>-0.701925</td>\n",
       "      <td>0.042903</td>\n",
       "      <td>0.905722</td>\n",
       "      <td>-1.871405</td>\n",
       "      <td>-9.378056</td>\n",
       "    </tr>\n",
       "    <tr>\n",
       "      <th>21</th>\n",
       "      <td>-0.359439</td>\n",
       "      <td>0.367208</td>\n",
       "      <td>-2.740478</td>\n",
       "      <td>-1.716018</td>\n",
       "      <td>-9.740200</td>\n",
       "      <td>-0.326454</td>\n",
       "      <td>0.706182</td>\n",
       "      <td>-2.821907</td>\n",
       "      <td>-1.638603</td>\n",
       "      <td>-9.812921</td>\n",
       "      <td>...</td>\n",
       "      <td>-0.646110</td>\n",
       "      <td>1.135646</td>\n",
       "      <td>-3.535051</td>\n",
       "      <td>-2.086474</td>\n",
       "      <td>-9.405221</td>\n",
       "      <td>-0.588811</td>\n",
       "      <td>1.123969</td>\n",
       "      <td>-3.424744</td>\n",
       "      <td>-2.136706</td>\n",
       "      <td>-9.432555</td>\n",
       "    </tr>\n",
       "  </tbody>\n",
       "</table>\n",
       "<p>2 rows × 580 columns</p>\n",
       "</div>"
      ],
      "text/plain": [
       "    Slope_Delta_channel1  Slope_Theta_channel1  Slope_Alpha_channel1  \\\n",
       "20             -0.655566              0.142126             -0.843033   \n",
       "21             -0.359439              0.367208             -2.740478   \n",
       "\n",
       "    Slope_Beta_channel1  Slope_Gamma_channel1  Slope_Delta_channel2  \\\n",
       "20            -0.875152            -10.003454             -0.692597   \n",
       "21            -1.716018             -9.740200             -0.326454   \n",
       "\n",
       "    Slope_Theta_channel2  Slope_Alpha_channel2  Slope_Beta_channel2  \\\n",
       "20              0.224640             -0.906742            -1.141044   \n",
       "21              0.706182             -2.821907            -1.638603   \n",
       "\n",
       "    Slope_Gamma_channel2  ...  Slope_Delta_channel115  Slope_Theta_channel115  \\\n",
       "20             -9.867734  ...               -0.686671                0.090868   \n",
       "21             -9.812921  ...               -0.646110                1.135646   \n",
       "\n",
       "    Slope_Alpha_channel115  Slope_Beta_channel115  Slope_Gamma_channel115  \\\n",
       "20                0.888668              -1.909757               -9.392111   \n",
       "21               -3.535051              -2.086474               -9.405221   \n",
       "\n",
       "    Slope_Delta_channel116  Slope_Theta_channel116  Slope_Alpha_channel116  \\\n",
       "20               -0.701925                0.042903                0.905722   \n",
       "21               -0.588811                1.123969               -3.424744   \n",
       "\n",
       "    Slope_Beta_channel116  Slope_Gamma_channel116  \n",
       "20              -1.871405               -9.378056  \n",
       "21              -2.136706               -9.432555  \n",
       "\n",
       "[2 rows x 580 columns]"
      ]
     },
     "execution_count": 71,
     "metadata": {},
     "output_type": "execute_result"
    }
   ],
   "source": [
    "df_slopes.head(2)"
   ]
  },
  {
   "cell_type": "code",
   "execution_count": 73,
   "id": "176e1221-83c8-4004-b05b-ca0d254dc377",
   "metadata": {},
   "outputs": [],
   "source": [
    "vector_bdi = df_psd[\"BDI\"]\n",
    "vector_apathy = df_psd[\"Apathy\"]"
   ]
  },
  {
   "cell_type": "code",
   "execution_count": 75,
   "id": "0f36bdcf-9d1c-4031-8740-d1bc7a3933d8",
   "metadata": {},
   "outputs": [],
   "source": [
    "thr1 = vector_bdi.quantile(0.5)+0.1  # This gives the median value\n",
    "thr2 = vector_apathy.quantile(0.5)+0.1  # This gives the median value\n",
    "\n",
    "bdi_binary = (vector_bdi >= thr1).astype(int)\n",
    "apathy_binary = (vector_apathy >= thr2).astype(int)"
   ]
  },
  {
   "cell_type": "code",
   "execution_count": 77,
   "id": "ba71e9ae-ed0f-46bd-83df-f6086e3783ef",
   "metadata": {},
   "outputs": [
    {
     "data": {
      "text/plain": [
       "BDI\n",
       "0    11\n",
       "1     9\n",
       "Name: count, dtype: int64"
      ]
     },
     "execution_count": 77,
     "metadata": {},
     "output_type": "execute_result"
    }
   ],
   "source": [
    "bdi_binary.value_counts()"
   ]
  },
  {
   "cell_type": "code",
   "execution_count": 79,
   "id": "c2372559-b898-4bfa-a871-53a430a2b040",
   "metadata": {
    "scrolled": true
   },
   "outputs": [
    {
     "data": {
      "text/plain": [
       "Apathy\n",
       "0    10\n",
       "1    10\n",
       "Name: count, dtype: int64"
      ]
     },
     "execution_count": 79,
     "metadata": {},
     "output_type": "execute_result"
    }
   ],
   "source": [
    "apathy_binary.value_counts()"
   ]
  },
  {
   "cell_type": "code",
   "execution_count": 81,
   "id": "df4d0a47-6ea3-4352-bba5-74b32798a3e3",
   "metadata": {},
   "outputs": [],
   "source": [
    "df_slopes = df_slopes.reset_index().drop(columns='index')"
   ]
  },
  {
   "cell_type": "code",
   "execution_count": 83,
   "id": "b081cd5a-5feb-44a4-8250-a1b903976153",
   "metadata": {},
   "outputs": [],
   "source": [
    "df_slopes_apathy = df_slopes.copy(deep=True)\n",
    "df_slopes_bdi = df_slopes.copy(deep=True)\n",
    "df_slopes_apathy['apathy_binary'] = apathy_binary\n",
    "df_slopes_bdi['bdi_binary'] = bdi_binary\n",
    "\n",
    "df_psd_apathy = df_psd.copy(deep=True)\n",
    "df_psd_bdi = df_psd.copy(deep=True)\n",
    "df_psd_apathy['apathy_binary'] = apathy_binary\n",
    "df_psd_bdi['bdi_binary'] = bdi_binary"
   ]
  },
  {
   "cell_type": "code",
   "execution_count": 87,
   "id": "f7928aec-33b2-4f2c-a5fa-0d3a595965d5",
   "metadata": {},
   "outputs": [
    {
     "name": "stdout",
     "output_type": "stream",
     "text": [
      "(20, 581)\n",
      "(20, 581)\n",
      "(20, 600)\n",
      "(20, 600)\n"
     ]
    }
   ],
   "source": [
    "print(df_slopes_bdi.shape)\n",
    "print(df_slopes_apathy.shape)\n",
    "\n",
    "print(df_psd_apathy.shape)\n",
    "print(df_psd_bdi.shape)"
   ]
  },
  {
   "cell_type": "code",
   "execution_count": 89,
   "id": "3554b9a6-21e1-44a1-8db7-492be15af113",
   "metadata": {},
   "outputs": [],
   "source": [
    "# logistic regression \n",
    "from sklearn import svm, metrics\n",
    "from sklearn.metrics import accuracy_score\n",
    "from sklearn.model_selection import cross_val_score, KFold, train_test_split, cross_val_predict, StratifiedKFold\n",
    "from sklearn.ensemble import RandomForestClassifier\n",
    "from sklearn.linear_model import LogisticRegression\n",
    "from sklearn.naive_bayes import GaussianNB\n",
    "from sklearn.preprocessing import StandardScaler\n",
    "from sklearn.tree import DecisionTreeClassifier\n",
    "from sklearn.discriminant_analysis import LinearDiscriminantAnalysis\n",
    "from sklearn.pipeline import Pipeline\n",
    "from sklearn.neighbors import KNeighborsClassifier\n",
    "\n",
    "import warnings\n",
    "from sklearn.exceptions import ConvergenceWarning"
   ]
  },
  {
   "cell_type": "code",
   "execution_count": 90,
   "id": "c5f0c0af-7651-4611-912d-6f7ac5a6dd59",
   "metadata": {},
   "outputs": [],
   "source": [
    "import pandas as pd\n",
    "import numpy as np\n",
    "from sklearn.linear_model import LogisticRegression\n",
    "from sklearn.preprocessing import StandardScaler\n",
    "from sklearn.metrics import accuracy_score\n",
    "from sklearn.utils import resample\n"
   ]
  },
  {
   "cell_type": "markdown",
   "id": "c63fdab6-ece5-4634-a72c-82d597e86b93",
   "metadata": {},
   "source": [
    "# ML - Slopes"
   ]
  },
  {
   "cell_type": "code",
   "execution_count": 94,
   "id": "64dd75b1-abb7-488a-a31f-b007b912c5c2",
   "metadata": {},
   "outputs": [],
   "source": [
    "df_psd_apathy = df_psd_apathy.iloc[:, 19:]\n",
    "df_psd_bdi = df_psd_bdi.iloc[:, 19:]"
   ]
  },
  {
   "cell_type": "code",
   "execution_count": 98,
   "id": "c4069486-cd03-4f26-85a6-60a73aaec060",
   "metadata": {},
   "outputs": [],
   "source": [
    "df_current = df_slopes_apathy.copy(deep=True)\n",
    "X = df_current.drop(columns='apathy_binary')\n",
    "y = df_current['apathy_binary']"
   ]
  },
  {
   "cell_type": "code",
   "execution_count": 102,
   "id": "1b0230bb-b1f3-4c2a-b603-07682a8f4dda",
   "metadata": {},
   "outputs": [
    {
     "data": {
      "text/plain": [
       "(20, 581)"
      ]
     },
     "execution_count": 102,
     "metadata": {},
     "output_type": "execute_result"
    }
   ],
   "source": [
    "df_current.shape"
   ]
  },
  {
   "cell_type": "code",
   "execution_count": 105,
   "id": "aa99643f-67c7-48e6-85d3-25af4becf840",
   "metadata": {
    "scrolled": true
   },
   "outputs": [
    {
     "data": {
      "text/html": [
       "<div>\n",
       "<style scoped>\n",
       "    .dataframe tbody tr th:only-of-type {\n",
       "        vertical-align: middle;\n",
       "    }\n",
       "\n",
       "    .dataframe tbody tr th {\n",
       "        vertical-align: top;\n",
       "    }\n",
       "\n",
       "    .dataframe thead th {\n",
       "        text-align: right;\n",
       "    }\n",
       "</style>\n",
       "<table border=\"1\" class=\"dataframe\">\n",
       "  <thead>\n",
       "    <tr style=\"text-align: right;\">\n",
       "      <th></th>\n",
       "      <th>Slope_Delta_channel1</th>\n",
       "      <th>Slope_Theta_channel1</th>\n",
       "      <th>Slope_Alpha_channel1</th>\n",
       "      <th>Slope_Beta_channel1</th>\n",
       "      <th>Slope_Gamma_channel1</th>\n",
       "      <th>Slope_Delta_channel2</th>\n",
       "      <th>Slope_Theta_channel2</th>\n",
       "      <th>Slope_Alpha_channel2</th>\n",
       "      <th>Slope_Beta_channel2</th>\n",
       "      <th>Slope_Gamma_channel2</th>\n",
       "      <th>...</th>\n",
       "      <th>Slope_Theta_channel115</th>\n",
       "      <th>Slope_Alpha_channel115</th>\n",
       "      <th>Slope_Beta_channel115</th>\n",
       "      <th>Slope_Gamma_channel115</th>\n",
       "      <th>Slope_Delta_channel116</th>\n",
       "      <th>Slope_Theta_channel116</th>\n",
       "      <th>Slope_Alpha_channel116</th>\n",
       "      <th>Slope_Beta_channel116</th>\n",
       "      <th>Slope_Gamma_channel116</th>\n",
       "      <th>apathy_binary</th>\n",
       "    </tr>\n",
       "  </thead>\n",
       "  <tbody>\n",
       "    <tr>\n",
       "      <th>0</th>\n",
       "      <td>-0.655566</td>\n",
       "      <td>0.142126</td>\n",
       "      <td>-0.843033</td>\n",
       "      <td>-0.875152</td>\n",
       "      <td>-10.003454</td>\n",
       "      <td>-0.692597</td>\n",
       "      <td>0.224640</td>\n",
       "      <td>-0.906742</td>\n",
       "      <td>-1.141044</td>\n",
       "      <td>-9.867734</td>\n",
       "      <td>...</td>\n",
       "      <td>0.090868</td>\n",
       "      <td>0.888668</td>\n",
       "      <td>-1.909757</td>\n",
       "      <td>-9.392111</td>\n",
       "      <td>-0.701925</td>\n",
       "      <td>0.042903</td>\n",
       "      <td>0.905722</td>\n",
       "      <td>-1.871405</td>\n",
       "      <td>-9.378056</td>\n",
       "      <td>0</td>\n",
       "    </tr>\n",
       "    <tr>\n",
       "      <th>1</th>\n",
       "      <td>-0.359439</td>\n",
       "      <td>0.367208</td>\n",
       "      <td>-2.740478</td>\n",
       "      <td>-1.716018</td>\n",
       "      <td>-9.740200</td>\n",
       "      <td>-0.326454</td>\n",
       "      <td>0.706182</td>\n",
       "      <td>-2.821907</td>\n",
       "      <td>-1.638603</td>\n",
       "      <td>-9.812921</td>\n",
       "      <td>...</td>\n",
       "      <td>1.135646</td>\n",
       "      <td>-3.535051</td>\n",
       "      <td>-2.086474</td>\n",
       "      <td>-9.405221</td>\n",
       "      <td>-0.588811</td>\n",
       "      <td>1.123969</td>\n",
       "      <td>-3.424744</td>\n",
       "      <td>-2.136706</td>\n",
       "      <td>-9.432555</td>\n",
       "      <td>0</td>\n",
       "    </tr>\n",
       "  </tbody>\n",
       "</table>\n",
       "<p>2 rows × 581 columns</p>\n",
       "</div>"
      ],
      "text/plain": [
       "   Slope_Delta_channel1  Slope_Theta_channel1  Slope_Alpha_channel1  \\\n",
       "0             -0.655566              0.142126             -0.843033   \n",
       "1             -0.359439              0.367208             -2.740478   \n",
       "\n",
       "   Slope_Beta_channel1  Slope_Gamma_channel1  Slope_Delta_channel2  \\\n",
       "0            -0.875152            -10.003454             -0.692597   \n",
       "1            -1.716018             -9.740200             -0.326454   \n",
       "\n",
       "   Slope_Theta_channel2  Slope_Alpha_channel2  Slope_Beta_channel2  \\\n",
       "0              0.224640             -0.906742            -1.141044   \n",
       "1              0.706182             -2.821907            -1.638603   \n",
       "\n",
       "   Slope_Gamma_channel2  ...  Slope_Theta_channel115  Slope_Alpha_channel115  \\\n",
       "0             -9.867734  ...                0.090868                0.888668   \n",
       "1             -9.812921  ...                1.135646               -3.535051   \n",
       "\n",
       "   Slope_Beta_channel115  Slope_Gamma_channel115  Slope_Delta_channel116  \\\n",
       "0              -1.909757               -9.392111               -0.701925   \n",
       "1              -2.086474               -9.405221               -0.588811   \n",
       "\n",
       "   Slope_Theta_channel116  Slope_Alpha_channel116  Slope_Beta_channel116  \\\n",
       "0                0.042903                0.905722              -1.871405   \n",
       "1                1.123969               -3.424744              -2.136706   \n",
       "\n",
       "   Slope_Gamma_channel116  apathy_binary  \n",
       "0               -9.378056              0  \n",
       "1               -9.432555              0  \n",
       "\n",
       "[2 rows x 581 columns]"
      ]
     },
     "execution_count": 105,
     "metadata": {},
     "output_type": "execute_result"
    }
   ],
   "source": [
    "df_current.head(2)"
   ]
  },
  {
   "cell_type": "code",
   "execution_count": null,
   "id": "c15c1d3a-6c98-4356-8a77-f49aee69c336",
   "metadata": {},
   "outputs": [],
   "source": []
  },
  {
   "cell_type": "markdown",
   "id": "fdf97319-1a3d-4516-b29a-3fcf467c5eb6",
   "metadata": {},
   "source": [
    "# Test with researchpy"
   ]
  },
  {
   "cell_type": "code",
   "execution_count": 110,
   "id": "639867d0-5589-4f43-87ac-16052f177d89",
   "metadata": {},
   "outputs": [
    {
     "name": "stdout",
     "output_type": "stream",
     "text": [
      "Collecting researchpy\n",
      "  Downloading researchpy-0.3.6-py3-none-any.whl.metadata (1.2 kB)\n",
      "Requirement already satisfied: scipy in /opt/anaconda3/lib/python3.12/site-packages (from researchpy) (1.13.1)\n",
      "Requirement already satisfied: numpy in /opt/anaconda3/lib/python3.12/site-packages (from researchpy) (1.26.4)\n",
      "Requirement already satisfied: pandas in /opt/anaconda3/lib/python3.12/site-packages (from researchpy) (2.2.2)\n",
      "Requirement already satisfied: statsmodels in /opt/anaconda3/lib/python3.12/site-packages (from researchpy) (0.14.2)\n",
      "Requirement already satisfied: patsy in /opt/anaconda3/lib/python3.12/site-packages (from researchpy) (0.5.6)\n",
      "Requirement already satisfied: python-dateutil>=2.8.2 in /opt/anaconda3/lib/python3.12/site-packages (from pandas->researchpy) (2.9.0.post0)\n",
      "Requirement already satisfied: pytz>=2020.1 in /opt/anaconda3/lib/python3.12/site-packages (from pandas->researchpy) (2024.1)\n",
      "Requirement already satisfied: tzdata>=2022.7 in /opt/anaconda3/lib/python3.12/site-packages (from pandas->researchpy) (2023.3)\n",
      "Requirement already satisfied: six in /opt/anaconda3/lib/python3.12/site-packages (from patsy->researchpy) (1.16.0)\n",
      "Requirement already satisfied: packaging>=21.3 in /opt/anaconda3/lib/python3.12/site-packages (from statsmodels->researchpy) (23.2)\n",
      "Downloading researchpy-0.3.6-py3-none-any.whl (34 kB)\n",
      "Installing collected packages: researchpy\n",
      "Successfully installed researchpy-0.3.6\n"
     ]
    }
   ],
   "source": [
    "!pip install researchpy"
   ]
  },
  {
   "cell_type": "code",
   "execution_count": 112,
   "id": "08c4abf0-9be7-492f-9824-1a96b8c9d940",
   "metadata": {},
   "outputs": [
    {
     "name": "stdout",
     "output_type": "stream",
     "text": [
      "<class 'pandas.core.frame.DataFrame'>\n",
      "RangeIndex: 400 entries, 0 to 399\n",
      "Data columns (total 4 columns):\n",
      " #   Column  Non-Null Count  Dtype  \n",
      "---  ------  --------------  -----  \n",
      " 0   admit   400 non-null    float32\n",
      " 1   gre     400 non-null    float32\n",
      " 2   gpa     400 non-null    float32\n",
      " 3   rank    400 non-null    float32\n",
      "dtypes: float32(4)\n",
      "memory usage: 6.4 KB\n"
     ]
    }
   ],
   "source": [
    "import pandas as pd\n",
    "import researchpy as rp\n",
    "import statsmodels.api as sm\n",
    "\n",
    "\n",
    "df = pd.read_stata(\"https://stats.idre.ucla.edu//stat//stata//dae//binary.dta\")\n",
    "df.info()"
   ]
  },
  {
   "cell_type": "code",
   "execution_count": 116,
   "id": "b17ae7d6-5cc0-4b1b-8c65-1e623e996e3e",
   "metadata": {},
   "outputs": [
    {
     "data": {
      "text/html": [
       "<div>\n",
       "<style scoped>\n",
       "    .dataframe tbody tr th:only-of-type {\n",
       "        vertical-align: middle;\n",
       "    }\n",
       "\n",
       "    .dataframe tbody tr th {\n",
       "        vertical-align: top;\n",
       "    }\n",
       "\n",
       "    .dataframe thead th {\n",
       "        text-align: right;\n",
       "    }\n",
       "</style>\n",
       "<table border=\"1\" class=\"dataframe\">\n",
       "  <thead>\n",
       "    <tr style=\"text-align: right;\">\n",
       "      <th></th>\n",
       "      <th>Variable</th>\n",
       "      <th>Outcome</th>\n",
       "      <th>Count</th>\n",
       "      <th>Percent</th>\n",
       "    </tr>\n",
       "  </thead>\n",
       "  <tbody>\n",
       "    <tr>\n",
       "      <th>0</th>\n",
       "      <td>admit</td>\n",
       "      <td>0.0</td>\n",
       "      <td>273</td>\n",
       "      <td>68.25</td>\n",
       "    </tr>\n",
       "    <tr>\n",
       "      <th>1</th>\n",
       "      <td></td>\n",
       "      <td>1.0</td>\n",
       "      <td>127</td>\n",
       "      <td>31.75</td>\n",
       "    </tr>\n",
       "    <tr>\n",
       "      <th>2</th>\n",
       "      <td>rank</td>\n",
       "      <td>2.0</td>\n",
       "      <td>151</td>\n",
       "      <td>37.75</td>\n",
       "    </tr>\n",
       "    <tr>\n",
       "      <th>3</th>\n",
       "      <td></td>\n",
       "      <td>3.0</td>\n",
       "      <td>121</td>\n",
       "      <td>30.25</td>\n",
       "    </tr>\n",
       "    <tr>\n",
       "      <th>4</th>\n",
       "      <td></td>\n",
       "      <td>4.0</td>\n",
       "      <td>67</td>\n",
       "      <td>16.75</td>\n",
       "    </tr>\n",
       "    <tr>\n",
       "      <th>5</th>\n",
       "      <td></td>\n",
       "      <td>1.0</td>\n",
       "      <td>61</td>\n",
       "      <td>15.25</td>\n",
       "    </tr>\n",
       "  </tbody>\n",
       "</table>\n",
       "</div>"
      ],
      "text/plain": [
       "  Variable  Outcome  Count  Percent\n",
       "0    admit      0.0    273    68.25\n",
       "1               1.0    127    31.75\n",
       "2     rank      2.0    151    37.75\n",
       "3               3.0    121    30.25\n",
       "4               4.0     67    16.75\n",
       "5               1.0     61    15.25"
      ]
     },
     "execution_count": 116,
     "metadata": {},
     "output_type": "execute_result"
    }
   ],
   "source": [
    "rp.summary_cat(df[['admit', 'rank']])"
   ]
  },
  {
   "cell_type": "code",
   "execution_count": 120,
   "id": "2f4bf95b-af5c-4160-878d-f933f6ab201f",
   "metadata": {
    "scrolled": true
   },
   "outputs": [
    {
     "name": "stdout",
     "output_type": "stream",
     "text": [
      "\n",
      "\n"
     ]
    },
    {
     "name": "stderr",
     "output_type": "stream",
     "text": [
      "/opt/anaconda3/lib/python3.12/site-packages/researchpy/summary.py:102: FutureWarning: Setting an item of incompatible dtype is deprecated and will raise an error in a future version of pandas. Value 'gre' has dtype incompatible with float64, please explicitly cast to a compatible dtype first.\n",
      "  table_a.iloc[0,0] = ix\n",
      "/opt/anaconda3/lib/python3.12/site-packages/researchpy/summary.py:102: FutureWarning: Setting an item of incompatible dtype is deprecated and will raise an error in a future version of pandas. Value 'gpa' has dtype incompatible with float64, please explicitly cast to a compatible dtype first.\n",
      "  table_a.iloc[0,0] = ix\n"
     ]
    },
    {
     "data": {
      "text/html": [
       "<div>\n",
       "<style scoped>\n",
       "    .dataframe tbody tr th:only-of-type {\n",
       "        vertical-align: middle;\n",
       "    }\n",
       "\n",
       "    .dataframe tbody tr th {\n",
       "        vertical-align: top;\n",
       "    }\n",
       "\n",
       "    .dataframe thead th {\n",
       "        text-align: right;\n",
       "    }\n",
       "</style>\n",
       "<table border=\"1\" class=\"dataframe\">\n",
       "  <thead>\n",
       "    <tr style=\"text-align: right;\">\n",
       "      <th></th>\n",
       "      <th>Variable</th>\n",
       "      <th>N</th>\n",
       "      <th>Mean</th>\n",
       "      <th>SD</th>\n",
       "      <th>SE</th>\n",
       "      <th>95% Conf.</th>\n",
       "      <th>Interval</th>\n",
       "    </tr>\n",
       "  </thead>\n",
       "  <tbody>\n",
       "    <tr>\n",
       "      <th>0</th>\n",
       "      <td>gre</td>\n",
       "      <td>400.0</td>\n",
       "      <td>587.7000</td>\n",
       "      <td>115.5167</td>\n",
       "      <td>5.7758</td>\n",
       "      <td>576.3452</td>\n",
       "      <td>599.0549</td>\n",
       "    </tr>\n",
       "    <tr>\n",
       "      <th>1</th>\n",
       "      <td>gpa</td>\n",
       "      <td>400.0</td>\n",
       "      <td>3.3899</td>\n",
       "      <td>0.3806</td>\n",
       "      <td>0.0190</td>\n",
       "      <td>3.3525</td>\n",
       "      <td>3.4273</td>\n",
       "    </tr>\n",
       "  </tbody>\n",
       "</table>\n",
       "</div>"
      ],
      "text/plain": [
       "  Variable      N      Mean        SD      SE  95% Conf.  Interval\n",
       "0      gre  400.0  587.7000  115.5167  5.7758   576.3452  599.0549\n",
       "1      gpa  400.0    3.3899    0.3806  0.0190     3.3525    3.4273"
      ]
     },
     "execution_count": 120,
     "metadata": {},
     "output_type": "execute_result"
    }
   ],
   "source": [
    "rp.summary_cont(df[['gre', 'gpa']])"
   ]
  },
  {
   "cell_type": "code",
   "execution_count": null,
   "id": "257afb5f-e7f4-489a-b69c-db8af448596b",
   "metadata": {
    "jp-MarkdownHeadingCollapsed": true
   },
   "outputs": [],
   "source": [
    "import statsmodels.formula.api as smf\n",
    "\n",
    "# https://www.pythonfordatascience.org/logistic-regression-python/\n",
    "\n",
    "model = smf.logit(\"admit ~ gre + gpa + C(rank)\", data=df).fit()\n",
    "#model = smf.logit(\"admit ~ . + C(rank)\", data=df).fit()\n",
    "model.summary()\n",
    "\n",
    "model_odds = pd.DataFrame(np.exp(model.params), columns= ['OR'])\n",
    "model_odds['z-value']= model.pvalues\n",
    "model_odds[['2.5%', '97.5%']] = np.exp(model.conf_int())\n",
    "\n",
    "model_odds"
   ]
  },
  {
   "cell_type": "code",
   "execution_count": 299,
   "id": "b8a4bc76-4d56-4099-813e-bd8f2e24e2e6",
   "metadata": {},
   "outputs": [],
   "source": [
    "df_current = df_slopes_apathy.copy(deep=True)\n",
    "X = df_current.drop(columns='apathy_binary')\n",
    "y = df_current['apathy_binary']\n",
    "\n",
    "scaler = StandardScaler()\n",
    "X_scaled = scaler.fit_transform(X)\n",
    "\n",
    "model = LogisticRegression()\n",
    "model.fit(X_scaled, y)\n",
    "\n",
    "odds_ratios = pd.DataFrame(columns=['odds_ratios', 'log_odds', 'p_val'])\n",
    "\n",
    "odds_ratios = np.exp(model.coef_[0])\n",
    "odds_ratios_series = pd.Series(odds_ratios, index=X.columns)"
   ]
  },
  {
   "cell_type": "code",
   "execution_count": 301,
   "id": "375da579-0597-4041-bc8c-f1c61dc8fd1b",
   "metadata": {
    "scrolled": true
   },
   "outputs": [
    {
     "data": {
      "text/plain": [
       "Slope_Delta_channel1      1.035422\n",
       "Slope_Theta_channel1      0.957715\n",
       "Slope_Alpha_channel1      1.005977\n",
       "Slope_Beta_channel1       1.096005\n",
       "Slope_Gamma_channel1      1.055023\n",
       "                            ...   \n",
       "Slope_Delta_channel116    0.887202\n",
       "Slope_Theta_channel116    0.962903\n",
       "Slope_Alpha_channel116    1.030569\n",
       "Slope_Beta_channel116     0.994138\n",
       "Slope_Gamma_channel116    0.944910\n",
       "Length: 580, dtype: float64"
      ]
     },
     "execution_count": 301,
     "metadata": {},
     "output_type": "execute_result"
    }
   ],
   "source": [
    "odds_ratios_series"
   ]
  },
  {
   "cell_type": "markdown",
   "id": "aa53d096-673f-45d5-9fac-0ec3cd676b41",
   "metadata": {},
   "source": [
    "# Multicollinearity "
   ]
  },
  {
   "cell_type": "markdown",
   "id": "0caf5112-d998-43ef-8412-73d547e71f72",
   "metadata": {},
   "source": [
    "# Previous"
   ]
  },
  {
   "cell_type": "code",
   "execution_count": 171,
   "id": "b7064f24-f301-4722-a03c-1727495f232f",
   "metadata": {},
   "outputs": [
    {
     "name": "stdout",
     "output_type": "stream",
     "text": [
      "PSD, Apathy\n",
      "Mean Accuracy Score: 0.766\n",
      "Mean Std Score: 0.19950939827486824\n"
     ]
    }
   ],
   "source": [
    "scaler = StandardScaler()\n",
    "X_scaled = scaler.fit_transform(X)\n",
    "\n",
    "model = LogisticRegression()\n",
    "\n",
    "# Store accuracy scores for each bootstrap iteration\n",
    "accuracy_scores = []\n",
    "\n",
    "# Perform 20 bootstrap repetitions\n",
    "for i in range(1000):\n",
    "    # Create a bootstrap sample with replacement\n",
    "    X_resampled, y_resampled = resample(X_scaled, y, replace=True, n_samples=len(y), random_state=i)\n",
    "    \n",
    "    # Split the resampled data into train and test sets (75% train, 25% test)\n",
    "    split_index = int(0.75 * len(y_resampled))\n",
    "    X_train, X_test = X_resampled[:split_index], X_resampled[split_index:]\n",
    "    y_train, y_test = y_resampled[:split_index], y_resampled[split_index:]\n",
    "    \n",
    "    # Train the model\n",
    "    model.fit(X_train, y_train)\n",
    "    \n",
    "    # Predict on the test set\n",
    "    y_pred = model.predict(X_test)\n",
    "    \n",
    "    # Calculate accuracy\n",
    "    accuracy = accuracy_score(y_test, y_pred)\n",
    "    accuracy_scores.append(accuracy)\n",
    "\n",
    "# Print the accuracy scores for each bootstrap iteration\n",
    "print(\"PSD, Apathy\")\n",
    "#print(\"Accuracy Scores for each Bootstrap Iteration:\", accuracy_scores)\n",
    "print(\"Mean Accuracy Score:\", np.mean(accuracy_scores))\n",
    "print(\"Mean Std Score:\", np.std(accuracy_scores))"
   ]
  },
  {
   "cell_type": "code",
   "execution_count": 193,
   "id": "ee035287-29d0-495d-a041-45f385f28e5e",
   "metadata": {},
   "outputs": [
    {
     "name": "stdout",
     "output_type": "stream",
     "text": [
      "PSD, BDI\n",
      "Mean Accuracy Score: 0.7218\n",
      "Mean Std Score: 0.21015413391127952\n"
     ]
    }
   ],
   "source": [
    "from sklearn.preprocessing import StandardScaler\n",
    "from sklearn.utils import resample\n",
    "from sklearn.linear_model import LogisticRegression\n",
    "from sklearn.metrics import accuracy_score\n",
    "import numpy as np\n",
    "\n",
    "scaler = StandardScaler()\n",
    "X_scaled = scaler.fit_transform(X)\n",
    "\n",
    "model = LogisticRegression()\n",
    "\n",
    "# Store accuracy scores for each bootstrap iteration\n",
    "accuracy_scores = []\n",
    "\n",
    "# Perform 1000 bootstrap repetitions\n",
    "for i in range(1000):\n",
    "    # Create a bootstrap sample with replacement\n",
    "    X_resampled, y_resampled = resample(X_scaled, y, replace=True, n_samples=len(y), random_state=i)\n",
    "    \n",
    "    # Split the resampled data into train and test sets (75% train, 25% test)\n",
    "    split_index = int(0.75 * len(y_resampled))\n",
    "    X_train, X_test = X_resampled[:split_index], X_resampled[split_index:]\n",
    "    y_train, y_test = y_resampled[:split_index], y_resampled[split_index:]\n",
    "    \n",
    "    # Train the model\n",
    "    model.fit(X_train, y_train)\n",
    "    \n",
    "    # Predict on the test set\n",
    "    y_pred = model.predict(X_test)\n",
    "    \n",
    "    # Calculate accuracy\n",
    "    accuracy = accuracy_score(y_test, y_pred)\n",
    "    accuracy_scores.append(accuracy)\n",
    "\n",
    "# Calculate the odds ratios for each feature\n",
    "odds_ratios = np.exp(model.coef_[0])\n",
    "odds_ratios_series = pd.Series(odds_ratios, index=X.columns)\n",
    "\n",
    "# Print the accuracy scores and odds ratios\n",
    "print(\"PSD, BDI\")\n",
    "print(\"Mean Accuracy Score:\", np.mean(accuracy_scores))\n",
    "print(\"Mean Std Score:\", np.std(accuracy_scores))\n",
    "\n",
    "# Print the odds ratios for each feature\n",
    "# print(\"Odds Ratios for each feature:\")\n",
    "# for i, feature_name in enumerate(X.columns):  # Assuming X is a DataFrame with named columns\n",
    "#     print(f\"{feature_name}: {odds_ratios[i]}\")"
   ]
  },
  {
   "cell_type": "code",
   "execution_count": 194,
   "id": "66038b41-0aef-4ebd-baf7-dd4b6cade100",
   "metadata": {},
   "outputs": [
    {
     "data": {
      "text/plain": [
       "Slope_Delta_channel30    0.106188\n",
       "Slope_Gamma_channel73    0.090988\n",
       "Slope_Gamma_channel72    0.087420\n",
       "Slope_Delta_channel31    0.082215\n",
       "Slope_Theta_channel44    0.081484\n",
       "Slope_Beta_channel75     0.077656\n",
       "Slope_Beta_channel36     0.077349\n",
       "Slope_Theta_channel42    0.074124\n",
       "Slope_Theta_channel43    0.071323\n",
       "Slope_Delta_channel32    0.070933\n",
       "Slope_Delta_channel19    0.070524\n",
       "Slope_Delta_channel29    0.070411\n",
       "Slope_Gamma_channel82    0.069370\n",
       "Slope_Beta_channel11     0.069163\n",
       "Slope_Theta_channel22    0.068673\n",
       "Slope_Beta_channel83     0.065963\n",
       "Slope_Delta_channel24    0.065131\n",
       "Slope_Theta_channel4     0.064999\n",
       "Slope_Beta_channel2      0.063554\n",
       "Slope_Gamma_channel78    0.062979\n",
       "dtype: float64"
      ]
     },
     "execution_count": 194,
     "metadata": {},
     "output_type": "execute_result"
    }
   ],
   "source": [
    "np.log(odds_ratios_series).sort_values(ascending=False)[:20]"
   ]
  },
  {
   "cell_type": "markdown",
   "id": "ad5214cc-4b33-48e9-8219-665cfd942519",
   "metadata": {},
   "source": [
    "# Final 28.10"
   ]
  },
  {
   "cell_type": "code",
   "execution_count": 320,
   "id": "d2b58142-56a0-4235-81b4-6c8cbeb60d8a",
   "metadata": {},
   "outputs": [
    {
     "name": "stdout",
     "output_type": "stream",
     "text": [
      "(20, 581)\n",
      "(20, 581)\n",
      "(20, 600)\n",
      "(20, 600)\n"
     ]
    }
   ],
   "source": [
    "vector_bdi = df_psd[\"BDI\"]\n",
    "vector_apathy = df_psd[\"Apathy\"]\n",
    "\n",
    "thr1 = vector_bdi.quantile(0.5)+0.1  # This gives the median value\n",
    "thr2 = vector_apathy.quantile(0.5)+0.1  # This gives the median value\n",
    "\n",
    "bdi_binary = (vector_bdi >= thr1).astype(int)\n",
    "apathy_binary = (vector_apathy >= thr2).astype(int)\n",
    "\n",
    "df_slopes = df_slopes.reset_index().drop(columns='index')\n",
    "\n",
    "df_slopes_apathy = df_slopes.copy(deep=True)\n",
    "df_slopes_bdi = df_slopes.copy(deep=True)\n",
    "df_slopes_apathy['apathy_binary'] = apathy_binary\n",
    "df_slopes_bdi['bdi_binary'] = bdi_binary\n",
    "\n",
    "df_psd_apathy = df_psd.copy(deep=True)\n",
    "df_psd_bdi = df_psd.copy(deep=True)\n",
    "df_psd_apathy['apathy_binary'] = apathy_binary\n",
    "df_psd_bdi['bdi_binary'] = bdi_binary\n",
    "\n",
    "print(df_slopes_bdi.shape)\n",
    "print(df_slopes_apathy.shape)\n",
    "\n",
    "print(df_psd_apathy.shape)\n",
    "print(df_psd_bdi.shape)"
   ]
  },
  {
   "cell_type": "code",
   "execution_count": 329,
   "id": "326f5dd7-b242-42b9-88c7-ff6953b37d68",
   "metadata": {},
   "outputs": [],
   "source": [
    "def calc_odds_ratio(df=df_slopes_apathy, target_var='apathy_binary'):\n",
    "    df_current = df.copy(deep=True)\n",
    "    X = df_current.drop(columns=target_var)\n",
    "    y = df_current[target_var]\n",
    "    \n",
    "    scaler = StandardScaler()\n",
    "    X_scaled = scaler.fit_transform(X)\n",
    "    \n",
    "    model = LogisticRegression()\n",
    "    model.fit(X_scaled, y)\n",
    "    \n",
    "    odds_ratios = pd.DataFrame(columns=['odds_ratios', 'log_odds'])\n",
    "    \n",
    "    odds_ratios['odds_ratios'] = np.exp(model.coef_[0])\n",
    "    odds_ratios['log_odds'] = model.coef_[0]\n",
    "    odds_ratios.index = X.columns\n",
    "    return odds_ratios"
   ]
  },
  {
   "cell_type": "code",
   "execution_count": 363,
   "id": "002a4d1d-78d3-47ad-b8fb-075bf90bdec8",
   "metadata": {},
   "outputs": [],
   "source": [
    "odds_slopes_apathy = calc_odds_ratio(df_slopes_apathy, 'apathy_binary')\n",
    "odds_slopes_bdi = calc_odds_ratio(df_slopes_bdi, 'bdi_binary')\n",
    "\n",
    "odds_powers_apathy = calc_odds_ratio(df_psd_apathy.iloc[:, 19:], 'apathy_binary')\n",
    "odds_powers_bdi = calc_odds_ratio(df_psd_bdi.iloc[:, 19:], 'bdi_binary')"
   ]
  },
  {
   "cell_type": "code",
   "execution_count": 375,
   "id": "ed40680f-491f-459a-8115-1cc02d3cff46",
   "metadata": {},
   "outputs": [],
   "source": [
    "odds_slopes_apathy = odds_slopes_apathy.sort_values(by='odds_ratios', ascending=False)\n",
    "odds_slopes_bdi = odds_slopes_bdi.sort_values(by='odds_ratios', ascending=False)\n",
    "odds_powers_apathy = odds_powers_apathy.sort_values(by='odds_ratios', ascending=False)\n",
    "odds_powers_bdi = odds_powers_bdi.sort_values(by='odds_ratios', ascending=False)"
   ]
  },
  {
   "cell_type": "code",
   "execution_count": 377,
   "id": "1b53980e-10ac-4e62-baeb-b419d82ea67e",
   "metadata": {},
   "outputs": [],
   "source": [
    "odds_slopes_apathy.to_csv(\"output/odds_slopes_apathy.csv\", index=True)\n",
    "odds_slopes_bdi.to_csv(\"output/odds_slopes_bdi.csv\", index=True)\n",
    "odds_powers_apathy.to_csv(\"output/odds_powers_apathy.csv\", index=True)\n",
    "odds_powers_bdi.to_csv(\"output/odds_powers_bdi.csv\", index=True)"
   ]
  },
  {
   "cell_type": "code",
   "execution_count": 379,
   "id": "73414d6b-eb77-4af6-9dcc-35ead06765b8",
   "metadata": {},
   "outputs": [
    {
     "data": {
      "text/html": [
       "<div>\n",
       "<style scoped>\n",
       "    .dataframe tbody tr th:only-of-type {\n",
       "        vertical-align: middle;\n",
       "    }\n",
       "\n",
       "    .dataframe tbody tr th {\n",
       "        vertical-align: top;\n",
       "    }\n",
       "\n",
       "    .dataframe thead th {\n",
       "        text-align: right;\n",
       "    }\n",
       "</style>\n",
       "<table border=\"1\" class=\"dataframe\">\n",
       "  <thead>\n",
       "    <tr style=\"text-align: right;\">\n",
       "      <th></th>\n",
       "      <th>odds_ratios</th>\n",
       "      <th>log_odds</th>\n",
       "    </tr>\n",
       "  </thead>\n",
       "  <tbody>\n",
       "    <tr>\n",
       "      <th>Slope_Delta_channel30</th>\n",
       "      <td>1.281330</td>\n",
       "      <td>0.247898</td>\n",
       "    </tr>\n",
       "    <tr>\n",
       "      <th>Slope_Delta_channel31</th>\n",
       "      <td>1.270593</td>\n",
       "      <td>0.239484</td>\n",
       "    </tr>\n",
       "    <tr>\n",
       "      <th>Slope_Delta_channel83</th>\n",
       "      <td>1.232109</td>\n",
       "      <td>0.208727</td>\n",
       "    </tr>\n",
       "    <tr>\n",
       "      <th>Slope_Delta_channel19</th>\n",
       "      <td>1.177954</td>\n",
       "      <td>0.163779</td>\n",
       "    </tr>\n",
       "    <tr>\n",
       "      <th>Slope_Delta_channel32</th>\n",
       "      <td>1.174441</td>\n",
       "      <td>0.160793</td>\n",
       "    </tr>\n",
       "    <tr>\n",
       "      <th>...</th>\n",
       "      <td>...</td>\n",
       "      <td>...</td>\n",
       "    </tr>\n",
       "    <tr>\n",
       "      <th>Slope_Delta_channel64</th>\n",
       "      <td>0.868872</td>\n",
       "      <td>-0.140560</td>\n",
       "    </tr>\n",
       "    <tr>\n",
       "      <th>Slope_Delta_channel17</th>\n",
       "      <td>0.868160</td>\n",
       "      <td>-0.141379</td>\n",
       "    </tr>\n",
       "    <tr>\n",
       "      <th>Slope_Delta_channel21</th>\n",
       "      <td>0.865483</td>\n",
       "      <td>-0.144468</td>\n",
       "    </tr>\n",
       "    <tr>\n",
       "      <th>Slope_Delta_channel105</th>\n",
       "      <td>0.864826</td>\n",
       "      <td>-0.145227</td>\n",
       "    </tr>\n",
       "    <tr>\n",
       "      <th>Slope_Delta_channel95</th>\n",
       "      <td>0.835568</td>\n",
       "      <td>-0.179643</td>\n",
       "    </tr>\n",
       "  </tbody>\n",
       "</table>\n",
       "<p>580 rows × 2 columns</p>\n",
       "</div>"
      ],
      "text/plain": [
       "                        odds_ratios  log_odds\n",
       "Slope_Delta_channel30      1.281330  0.247898\n",
       "Slope_Delta_channel31      1.270593  0.239484\n",
       "Slope_Delta_channel83      1.232109  0.208727\n",
       "Slope_Delta_channel19      1.177954  0.163779\n",
       "Slope_Delta_channel32      1.174441  0.160793\n",
       "...                             ...       ...\n",
       "Slope_Delta_channel64      0.868872 -0.140560\n",
       "Slope_Delta_channel17      0.868160 -0.141379\n",
       "Slope_Delta_channel21      0.865483 -0.144468\n",
       "Slope_Delta_channel105     0.864826 -0.145227\n",
       "Slope_Delta_channel95      0.835568 -0.179643\n",
       "\n",
       "[580 rows x 2 columns]"
      ]
     },
     "execution_count": 379,
     "metadata": {},
     "output_type": "execute_result"
    }
   ],
   "source": [
    "pd.read_csv(\"output/odds_slopes_apathy.csv\", index_col=0)"
   ]
  },
  {
   "cell_type": "code",
   "execution_count": null,
   "id": "99511a69-9282-4336-8d99-1b524a1dc9e4",
   "metadata": {},
   "outputs": [],
   "source": []
  }
 ],
 "metadata": {
  "kernelspec": {
   "display_name": "Python 3 (ipykernel)",
   "language": "python",
   "name": "python3"
  },
  "language_info": {
   "codemirror_mode": {
    "name": "ipython",
    "version": 3
   },
   "file_extension": ".py",
   "mimetype": "text/x-python",
   "name": "python",
   "nbconvert_exporter": "python",
   "pygments_lexer": "ipython3",
   "version": "3.12.4"
  }
 },
 "nbformat": 4,
 "nbformat_minor": 5
}
